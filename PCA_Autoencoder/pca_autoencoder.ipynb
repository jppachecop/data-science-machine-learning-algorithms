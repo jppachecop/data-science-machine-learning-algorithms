{
 "cells": [
  {
   "cell_type": "markdown",
   "metadata": {},
   "source": [
    "# Redução de dimensionalidade  --- Principal Component Analysis(PCA)\n",
    "\n",
    "Muitas vezes os dados possuem atributos demais os quais dificulta a visualizção. Além disso, o excesso deles pode gerar um peso alto em fatores de pouca importância. Para contornar esses problemas existem os algoritmos de redução de dimensionalidade.\n",
    "\n",
    "O PCA é um algoritmo de aprendizado não supervisionado, ele foi desenvolvido por métodos matemáticos a fim de reduzir a dimensionalidade de um problema. \n",
    "\n",
    "<img src = 'imagens/nagesh-pca-5.gif'>\n",
    "\n",
    "Em um espaço com N dimensões, pode-se aplica-lo para reduzir em quantas dimensões forem suficientes.\n",
    "\n"
   ]
  },
  {
   "cell_type": "markdown",
   "metadata": {},
   "source": [
    "## Processo de redução\n",
    "\n",
    "A Redução utiliza de métodos de álgebra linear para ser executada. Primeiramente calcula-se a matriz de correlação das variáveis, em seguida, os autovetores e os autovalores das mesmas. Com os autovalores em ordem, sabe-se quais variáveis possuem a maior relevância para a informação. Então escolhe-se o número de autovetores a serem multiplicados pela matriz original, tendo por fim uma matriz de n variáveis por m dimensões (número de autovetores)."
   ]
  },
  {
   "cell_type": "markdown",
   "metadata": {},
   "source": [
    "## Problema\n",
    "\n",
    "Aplicar o PCA do scratch para a base de dados dos tipos de cancer de mama"
   ]
  },
  {
   "cell_type": "code",
   "execution_count": 1,
   "metadata": {},
   "outputs": [],
   "source": [
    "# import all libraries\n",
    "import pandas as pd\n",
    "import numpy as np\n",
    "import matplotlib.pyplot as plt\n",
    "%matplotlib inline\n",
    "from sklearn.decomposition import PCA\n",
    "from sklearn.preprocessing import StandardScaler"
   ]
  },
  {
   "cell_type": "code",
   "execution_count": 2,
   "metadata": {},
   "outputs": [
    {
     "name": "stdout",
     "output_type": "stream",
     "text": [
      "['malignant' 'benign']\n",
      "['mean radius' 'mean texture' 'mean perimeter' 'mean area'\n",
      " 'mean smoothness' 'mean compactness' 'mean concavity'\n",
      " 'mean concave points' 'mean symmetry' 'mean fractal dimension'\n",
      " 'radius error' 'texture error' 'perimeter error' 'area error'\n",
      " 'smoothness error' 'compactness error' 'concavity error'\n",
      " 'concave points error' 'symmetry error' 'fractal dimension error'\n",
      " 'worst radius' 'worst texture' 'worst perimeter' 'worst area'\n",
      " 'worst smoothness' 'worst compactness' 'worst concavity'\n",
      " 'worst concave points' 'worst symmetry' 'worst fractal dimension']\n"
     ]
    }
   ],
   "source": [
    "from sklearn.datasets import load_breast_cancer\n",
    "data=load_breast_cancer()\n",
    "data.keys()\n",
    " \n",
    "# Check the output classes\n",
    "print(data['target_names'])\n",
    " \n",
    "# Check the input attributes\n",
    "print(data['feature_names'])"
   ]
  },
  {
   "cell_type": "code",
   "execution_count": 29,
   "metadata": {},
   "outputs": [
    {
     "data": {
      "text/plain": [
       "{'data': array([[1.799e+01, 1.038e+01, 1.228e+02, ..., 2.654e-01, 4.601e-01,\n",
       "         1.189e-01],\n",
       "        [2.057e+01, 1.777e+01, 1.329e+02, ..., 1.860e-01, 2.750e-01,\n",
       "         8.902e-02],\n",
       "        [1.969e+01, 2.125e+01, 1.300e+02, ..., 2.430e-01, 3.613e-01,\n",
       "         8.758e-02],\n",
       "        ...,\n",
       "        [1.660e+01, 2.808e+01, 1.083e+02, ..., 1.418e-01, 2.218e-01,\n",
       "         7.820e-02],\n",
       "        [2.060e+01, 2.933e+01, 1.401e+02, ..., 2.650e-01, 4.087e-01,\n",
       "         1.240e-01],\n",
       "        [7.760e+00, 2.454e+01, 4.792e+01, ..., 0.000e+00, 2.871e-01,\n",
       "         7.039e-02]]),\n",
       " 'target': array([0, 0, 0, 0, 0, 0, 0, 0, 0, 0, 0, 0, 0, 0, 0, 0, 0, 0, 0, 1, 1, 1,\n",
       "        0, 0, 0, 0, 0, 0, 0, 0, 0, 0, 0, 0, 0, 0, 0, 1, 0, 0, 0, 0, 0, 0,\n",
       "        0, 0, 1, 0, 1, 1, 1, 1, 1, 0, 0, 1, 0, 0, 1, 1, 1, 1, 0, 1, 0, 0,\n",
       "        1, 1, 1, 1, 0, 1, 0, 0, 1, 0, 1, 0, 0, 1, 1, 1, 0, 0, 1, 0, 0, 0,\n",
       "        1, 1, 1, 0, 1, 1, 0, 0, 1, 1, 1, 0, 0, 1, 1, 1, 1, 0, 1, 1, 0, 1,\n",
       "        1, 1, 1, 1, 1, 1, 1, 0, 0, 0, 1, 0, 0, 1, 1, 1, 0, 0, 1, 0, 1, 0,\n",
       "        0, 1, 0, 0, 1, 1, 0, 1, 1, 0, 1, 1, 1, 1, 0, 1, 1, 1, 1, 1, 1, 1,\n",
       "        1, 1, 0, 1, 1, 1, 1, 0, 0, 1, 0, 1, 1, 0, 0, 1, 1, 0, 0, 1, 1, 1,\n",
       "        1, 0, 1, 1, 0, 0, 0, 1, 0, 1, 0, 1, 1, 1, 0, 1, 1, 0, 0, 1, 0, 0,\n",
       "        0, 0, 1, 0, 0, 0, 1, 0, 1, 0, 1, 1, 0, 1, 0, 0, 0, 0, 1, 1, 0, 0,\n",
       "        1, 1, 1, 0, 1, 1, 1, 1, 1, 0, 0, 1, 1, 0, 1, 1, 0, 0, 1, 0, 1, 1,\n",
       "        1, 1, 0, 1, 1, 1, 1, 1, 0, 1, 0, 0, 0, 0, 0, 0, 0, 0, 0, 0, 0, 0,\n",
       "        0, 0, 1, 1, 1, 1, 1, 1, 0, 1, 0, 1, 1, 0, 1, 1, 0, 1, 0, 0, 1, 1,\n",
       "        1, 1, 1, 1, 1, 1, 1, 1, 1, 1, 1, 0, 1, 1, 0, 1, 0, 1, 1, 1, 1, 1,\n",
       "        1, 1, 1, 1, 1, 1, 1, 1, 1, 0, 1, 1, 1, 0, 1, 0, 1, 1, 1, 1, 0, 0,\n",
       "        0, 1, 1, 1, 1, 0, 1, 0, 1, 0, 1, 1, 1, 0, 1, 1, 1, 1, 1, 1, 1, 0,\n",
       "        0, 0, 1, 1, 1, 1, 1, 1, 1, 1, 1, 1, 1, 0, 0, 1, 0, 0, 0, 1, 0, 0,\n",
       "        1, 1, 1, 1, 1, 0, 1, 1, 1, 1, 1, 0, 1, 1, 1, 0, 1, 1, 0, 0, 1, 1,\n",
       "        1, 1, 1, 1, 0, 1, 1, 1, 1, 1, 1, 1, 0, 1, 1, 1, 1, 1, 0, 1, 1, 0,\n",
       "        1, 1, 1, 1, 1, 1, 1, 1, 1, 1, 1, 1, 0, 1, 0, 0, 1, 0, 1, 1, 1, 1,\n",
       "        1, 0, 1, 1, 0, 1, 0, 1, 1, 0, 1, 0, 1, 1, 1, 1, 1, 1, 1, 1, 0, 0,\n",
       "        1, 1, 1, 1, 1, 1, 0, 1, 1, 1, 1, 1, 1, 1, 1, 1, 1, 0, 1, 1, 1, 1,\n",
       "        1, 1, 1, 0, 1, 0, 1, 1, 0, 1, 1, 1, 1, 1, 0, 0, 1, 0, 1, 0, 1, 1,\n",
       "        1, 1, 1, 0, 1, 1, 0, 1, 0, 1, 0, 0, 1, 1, 1, 0, 1, 1, 1, 1, 1, 1,\n",
       "        1, 1, 1, 1, 1, 0, 1, 0, 0, 1, 1, 1, 1, 1, 1, 1, 1, 1, 1, 1, 1, 1,\n",
       "        1, 1, 1, 1, 1, 1, 1, 1, 1, 1, 1, 1, 0, 0, 0, 0, 0, 0, 1]),\n",
       " 'frame': None,\n",
       " 'target_names': array(['malignant', 'benign'], dtype='<U9'),\n",
       " 'DESCR': '.. _breast_cancer_dataset:\\n\\nBreast cancer wisconsin (diagnostic) dataset\\n--------------------------------------------\\n\\n**Data Set Characteristics:**\\n\\n    :Number of Instances: 569\\n\\n    :Number of Attributes: 30 numeric, predictive attributes and the class\\n\\n    :Attribute Information:\\n        - radius (mean of distances from center to points on the perimeter)\\n        - texture (standard deviation of gray-scale values)\\n        - perimeter\\n        - area\\n        - smoothness (local variation in radius lengths)\\n        - compactness (perimeter^2 / area - 1.0)\\n        - concavity (severity of concave portions of the contour)\\n        - concave points (number of concave portions of the contour)\\n        - symmetry\\n        - fractal dimension (\"coastline approximation\" - 1)\\n\\n        The mean, standard error, and \"worst\" or largest (mean of the three\\n        worst/largest values) of these features were computed for each image,\\n        resulting in 30 features.  For instance, field 0 is Mean Radius, field\\n        10 is Radius SE, field 20 is Worst Radius.\\n\\n        - class:\\n                - WDBC-Malignant\\n                - WDBC-Benign\\n\\n    :Summary Statistics:\\n\\n    ===================================== ====== ======\\n                                           Min    Max\\n    ===================================== ====== ======\\n    radius (mean):                        6.981  28.11\\n    texture (mean):                       9.71   39.28\\n    perimeter (mean):                     43.79  188.5\\n    area (mean):                          143.5  2501.0\\n    smoothness (mean):                    0.053  0.163\\n    compactness (mean):                   0.019  0.345\\n    concavity (mean):                     0.0    0.427\\n    concave points (mean):                0.0    0.201\\n    symmetry (mean):                      0.106  0.304\\n    fractal dimension (mean):             0.05   0.097\\n    radius (standard error):              0.112  2.873\\n    texture (standard error):             0.36   4.885\\n    perimeter (standard error):           0.757  21.98\\n    area (standard error):                6.802  542.2\\n    smoothness (standard error):          0.002  0.031\\n    compactness (standard error):         0.002  0.135\\n    concavity (standard error):           0.0    0.396\\n    concave points (standard error):      0.0    0.053\\n    symmetry (standard error):            0.008  0.079\\n    fractal dimension (standard error):   0.001  0.03\\n    radius (worst):                       7.93   36.04\\n    texture (worst):                      12.02  49.54\\n    perimeter (worst):                    50.41  251.2\\n    area (worst):                         185.2  4254.0\\n    smoothness (worst):                   0.071  0.223\\n    compactness (worst):                  0.027  1.058\\n    concavity (worst):                    0.0    1.252\\n    concave points (worst):               0.0    0.291\\n    symmetry (worst):                     0.156  0.664\\n    fractal dimension (worst):            0.055  0.208\\n    ===================================== ====== ======\\n\\n    :Missing Attribute Values: None\\n\\n    :Class Distribution: 212 - Malignant, 357 - Benign\\n\\n    :Creator:  Dr. William H. Wolberg, W. Nick Street, Olvi L. Mangasarian\\n\\n    :Donor: Nick Street\\n\\n    :Date: November, 1995\\n\\nThis is a copy of UCI ML Breast Cancer Wisconsin (Diagnostic) datasets.\\nhttps://goo.gl/U2Uwz2\\n\\nFeatures are computed from a digitized image of a fine needle\\naspirate (FNA) of a breast mass.  They describe\\ncharacteristics of the cell nuclei present in the image.\\n\\nSeparating plane described above was obtained using\\nMultisurface Method-Tree (MSM-T) [K. P. Bennett, \"Decision Tree\\nConstruction Via Linear Programming.\" Proceedings of the 4th\\nMidwest Artificial Intelligence and Cognitive Science Society,\\npp. 97-101, 1992], a classification method which uses linear\\nprogramming to construct a decision tree.  Relevant features\\nwere selected using an exhaustive search in the space of 1-4\\nfeatures and 1-3 separating planes.\\n\\nThe actual linear program used to obtain the separating plane\\nin the 3-dimensional space is that described in:\\n[K. P. Bennett and O. L. Mangasarian: \"Robust Linear\\nProgramming Discrimination of Two Linearly Inseparable Sets\",\\nOptimization Methods and Software 1, 1992, 23-34].\\n\\nThis database is also available through the UW CS ftp server:\\n\\nftp ftp.cs.wisc.edu\\ncd math-prog/cpo-dataset/machine-learn/WDBC/\\n\\n.. topic:: References\\n\\n   - W.N. Street, W.H. Wolberg and O.L. Mangasarian. Nuclear feature extraction \\n     for breast tumor diagnosis. IS&T/SPIE 1993 International Symposium on \\n     Electronic Imaging: Science and Technology, volume 1905, pages 861-870,\\n     San Jose, CA, 1993.\\n   - O.L. Mangasarian, W.N. Street and W.H. Wolberg. Breast cancer diagnosis and \\n     prognosis via linear programming. Operations Research, 43(4), pages 570-577, \\n     July-August 1995.\\n   - W.H. Wolberg, W.N. Street, and O.L. Mangasarian. Machine learning techniques\\n     to diagnose breast cancer from fine-needle aspirates. Cancer Letters 77 (1994) \\n     163-171.',\n",
       " 'feature_names': array(['mean radius', 'mean texture', 'mean perimeter', 'mean area',\n",
       "        'mean smoothness', 'mean compactness', 'mean concavity',\n",
       "        'mean concave points', 'mean symmetry', 'mean fractal dimension',\n",
       "        'radius error', 'texture error', 'perimeter error', 'area error',\n",
       "        'smoothness error', 'compactness error', 'concavity error',\n",
       "        'concave points error', 'symmetry error',\n",
       "        'fractal dimension error', 'worst radius', 'worst texture',\n",
       "        'worst perimeter', 'worst area', 'worst smoothness',\n",
       "        'worst compactness', 'worst concavity', 'worst concave points',\n",
       "        'worst symmetry', 'worst fractal dimension'], dtype='<U23'),\n",
       " 'filename': 'breast_cancer.csv',\n",
       " 'data_module': 'sklearn.datasets.data'}"
      ]
     },
     "execution_count": 29,
     "metadata": {},
     "output_type": "execute_result"
    }
   ],
   "source": [
    "data"
   ]
  },
  {
   "cell_type": "code",
   "execution_count": 3,
   "metadata": {},
   "outputs": [
    {
     "data": {
      "text/html": [
       "<div>\n",
       "<style scoped>\n",
       "    .dataframe tbody tr th:only-of-type {\n",
       "        vertical-align: middle;\n",
       "    }\n",
       "\n",
       "    .dataframe tbody tr th {\n",
       "        vertical-align: top;\n",
       "    }\n",
       "\n",
       "    .dataframe thead th {\n",
       "        text-align: right;\n",
       "    }\n",
       "</style>\n",
       "<table border=\"1\" class=\"dataframe\">\n",
       "  <thead>\n",
       "    <tr style=\"text-align: right;\">\n",
       "      <th></th>\n",
       "      <th>mean radius</th>\n",
       "      <th>mean texture</th>\n",
       "      <th>mean perimeter</th>\n",
       "      <th>mean area</th>\n",
       "      <th>mean smoothness</th>\n",
       "      <th>mean compactness</th>\n",
       "      <th>mean concavity</th>\n",
       "      <th>mean concave points</th>\n",
       "      <th>mean symmetry</th>\n",
       "      <th>mean fractal dimension</th>\n",
       "      <th>...</th>\n",
       "      <th>worst radius</th>\n",
       "      <th>worst texture</th>\n",
       "      <th>worst perimeter</th>\n",
       "      <th>worst area</th>\n",
       "      <th>worst smoothness</th>\n",
       "      <th>worst compactness</th>\n",
       "      <th>worst concavity</th>\n",
       "      <th>worst concave points</th>\n",
       "      <th>worst symmetry</th>\n",
       "      <th>worst fractal dimension</th>\n",
       "    </tr>\n",
       "  </thead>\n",
       "  <tbody>\n",
       "    <tr>\n",
       "      <th>0</th>\n",
       "      <td>17.99</td>\n",
       "      <td>10.38</td>\n",
       "      <td>122.80</td>\n",
       "      <td>1001.0</td>\n",
       "      <td>0.11840</td>\n",
       "      <td>0.27760</td>\n",
       "      <td>0.3001</td>\n",
       "      <td>0.14710</td>\n",
       "      <td>0.2419</td>\n",
       "      <td>0.07871</td>\n",
       "      <td>...</td>\n",
       "      <td>25.38</td>\n",
       "      <td>17.33</td>\n",
       "      <td>184.60</td>\n",
       "      <td>2019.0</td>\n",
       "      <td>0.1622</td>\n",
       "      <td>0.6656</td>\n",
       "      <td>0.7119</td>\n",
       "      <td>0.2654</td>\n",
       "      <td>0.4601</td>\n",
       "      <td>0.11890</td>\n",
       "    </tr>\n",
       "    <tr>\n",
       "      <th>1</th>\n",
       "      <td>20.57</td>\n",
       "      <td>17.77</td>\n",
       "      <td>132.90</td>\n",
       "      <td>1326.0</td>\n",
       "      <td>0.08474</td>\n",
       "      <td>0.07864</td>\n",
       "      <td>0.0869</td>\n",
       "      <td>0.07017</td>\n",
       "      <td>0.1812</td>\n",
       "      <td>0.05667</td>\n",
       "      <td>...</td>\n",
       "      <td>24.99</td>\n",
       "      <td>23.41</td>\n",
       "      <td>158.80</td>\n",
       "      <td>1956.0</td>\n",
       "      <td>0.1238</td>\n",
       "      <td>0.1866</td>\n",
       "      <td>0.2416</td>\n",
       "      <td>0.1860</td>\n",
       "      <td>0.2750</td>\n",
       "      <td>0.08902</td>\n",
       "    </tr>\n",
       "    <tr>\n",
       "      <th>2</th>\n",
       "      <td>19.69</td>\n",
       "      <td>21.25</td>\n",
       "      <td>130.00</td>\n",
       "      <td>1203.0</td>\n",
       "      <td>0.10960</td>\n",
       "      <td>0.15990</td>\n",
       "      <td>0.1974</td>\n",
       "      <td>0.12790</td>\n",
       "      <td>0.2069</td>\n",
       "      <td>0.05999</td>\n",
       "      <td>...</td>\n",
       "      <td>23.57</td>\n",
       "      <td>25.53</td>\n",
       "      <td>152.50</td>\n",
       "      <td>1709.0</td>\n",
       "      <td>0.1444</td>\n",
       "      <td>0.4245</td>\n",
       "      <td>0.4504</td>\n",
       "      <td>0.2430</td>\n",
       "      <td>0.3613</td>\n",
       "      <td>0.08758</td>\n",
       "    </tr>\n",
       "    <tr>\n",
       "      <th>3</th>\n",
       "      <td>11.42</td>\n",
       "      <td>20.38</td>\n",
       "      <td>77.58</td>\n",
       "      <td>386.1</td>\n",
       "      <td>0.14250</td>\n",
       "      <td>0.28390</td>\n",
       "      <td>0.2414</td>\n",
       "      <td>0.10520</td>\n",
       "      <td>0.2597</td>\n",
       "      <td>0.09744</td>\n",
       "      <td>...</td>\n",
       "      <td>14.91</td>\n",
       "      <td>26.50</td>\n",
       "      <td>98.87</td>\n",
       "      <td>567.7</td>\n",
       "      <td>0.2098</td>\n",
       "      <td>0.8663</td>\n",
       "      <td>0.6869</td>\n",
       "      <td>0.2575</td>\n",
       "      <td>0.6638</td>\n",
       "      <td>0.17300</td>\n",
       "    </tr>\n",
       "    <tr>\n",
       "      <th>4</th>\n",
       "      <td>20.29</td>\n",
       "      <td>14.34</td>\n",
       "      <td>135.10</td>\n",
       "      <td>1297.0</td>\n",
       "      <td>0.10030</td>\n",
       "      <td>0.13280</td>\n",
       "      <td>0.1980</td>\n",
       "      <td>0.10430</td>\n",
       "      <td>0.1809</td>\n",
       "      <td>0.05883</td>\n",
       "      <td>...</td>\n",
       "      <td>22.54</td>\n",
       "      <td>16.67</td>\n",
       "      <td>152.20</td>\n",
       "      <td>1575.0</td>\n",
       "      <td>0.1374</td>\n",
       "      <td>0.2050</td>\n",
       "      <td>0.4000</td>\n",
       "      <td>0.1625</td>\n",
       "      <td>0.2364</td>\n",
       "      <td>0.07678</td>\n",
       "    </tr>\n",
       "  </tbody>\n",
       "</table>\n",
       "<p>5 rows × 30 columns</p>\n",
       "</div>"
      ],
      "text/plain": [
       "   mean radius  mean texture  mean perimeter  mean area  mean smoothness  \\\n",
       "0        17.99         10.38          122.80     1001.0          0.11840   \n",
       "1        20.57         17.77          132.90     1326.0          0.08474   \n",
       "2        19.69         21.25          130.00     1203.0          0.10960   \n",
       "3        11.42         20.38           77.58      386.1          0.14250   \n",
       "4        20.29         14.34          135.10     1297.0          0.10030   \n",
       "\n",
       "   mean compactness  mean concavity  mean concave points  mean symmetry  \\\n",
       "0           0.27760          0.3001              0.14710         0.2419   \n",
       "1           0.07864          0.0869              0.07017         0.1812   \n",
       "2           0.15990          0.1974              0.12790         0.2069   \n",
       "3           0.28390          0.2414              0.10520         0.2597   \n",
       "4           0.13280          0.1980              0.10430         0.1809   \n",
       "\n",
       "   mean fractal dimension  ...  worst radius  worst texture  worst perimeter  \\\n",
       "0                 0.07871  ...         25.38          17.33           184.60   \n",
       "1                 0.05667  ...         24.99          23.41           158.80   \n",
       "2                 0.05999  ...         23.57          25.53           152.50   \n",
       "3                 0.09744  ...         14.91          26.50            98.87   \n",
       "4                 0.05883  ...         22.54          16.67           152.20   \n",
       "\n",
       "   worst area  worst smoothness  worst compactness  worst concavity  \\\n",
       "0      2019.0            0.1622             0.6656           0.7119   \n",
       "1      1956.0            0.1238             0.1866           0.2416   \n",
       "2      1709.0            0.1444             0.4245           0.4504   \n",
       "3       567.7            0.2098             0.8663           0.6869   \n",
       "4      1575.0            0.1374             0.2050           0.4000   \n",
       "\n",
       "   worst concave points  worst symmetry  worst fractal dimension  \n",
       "0                0.2654          0.4601                  0.11890  \n",
       "1                0.1860          0.2750                  0.08902  \n",
       "2                0.2430          0.3613                  0.08758  \n",
       "3                0.2575          0.6638                  0.17300  \n",
       "4                0.1625          0.2364                  0.07678  \n",
       "\n",
       "[5 rows x 30 columns]"
      ]
     },
     "execution_count": 3,
     "metadata": {},
     "output_type": "execute_result"
    }
   ],
   "source": [
    "df1=pd.DataFrame(data['data'],columns=data['feature_names'])\n",
    "\n",
    "df1.head()"
   ]
  },
  {
   "cell_type": "code",
   "execution_count": 5,
   "metadata": {},
   "outputs": [],
   "source": [
    "# Para o PCA funcionar deve-se deixar os dados regularizados\n",
    "\n",
    "scaling=StandardScaler()\n",
    "scaling.fit(df1)\n",
    "\n",
    "Scaled_data=scaling.transform(df1)"
   ]
  },
  {
   "cell_type": "code",
   "execution_count": 11,
   "metadata": {},
   "outputs": [
    {
     "data": {
      "text/plain": [
       "(569, 30)"
      ]
     },
     "execution_count": 11,
     "metadata": {},
     "output_type": "execute_result"
    }
   ],
   "source": [
    "Scaled_data.shape"
   ]
  },
  {
   "cell_type": "code",
   "execution_count": 12,
   "metadata": {},
   "outputs": [
    {
     "data": {
      "text/plain": [
       "array([[ 1.00176056e+00,  3.24351929e-01,  9.99612069e-01,\n",
       "         9.89095475e-01,  1.70881506e-01,  5.07014640e-01,\n",
       "         6.77955036e-01,  8.23976636e-01,  1.48001350e-01,\n",
       "        -3.12179472e-01,  6.80285970e-01, -9.74887767e-02,\n",
       "         6.75358538e-01,  7.37159198e-01, -2.22992026e-01,\n",
       "         2.06362656e-01,  1.94545531e-01,  3.76831225e-01,\n",
       "        -1.04504545e-01, -4.27163418e-02,  9.71245907e-01,\n",
       "         2.97530545e-01,  9.66835698e-01,  9.42739295e-01,\n",
       "         1.19826732e-01,  4.14190751e-01,  5.27839123e-01,\n",
       "         7.45524434e-01,  1.64241985e-01,  7.07832563e-03],\n",
       "       [ 3.24351929e-01,  1.00176056e+00,  3.30113223e-01,\n",
       "         3.21650988e-01, -2.34296930e-02,  2.37118951e-01,\n",
       "         3.02950254e-01,  2.93980713e-01,  7.15266864e-02,\n",
       "        -7.65717560e-02,  2.76354360e-01,  3.87037830e-01,\n",
       "         2.82169018e-01,  2.60302460e-01,  6.62542133e-03,\n",
       "         1.92312595e-01,  1.43545353e-01,  1.64139495e-01,\n",
       "         9.14323671e-03,  5.45533955e-02,  3.53193674e-01,\n",
       "         9.13650301e-01,  3.58669926e-01,  3.44150782e-01,\n",
       "         7.76398084e-02,  2.78318729e-01,  3.01555198e-01,\n",
       "         2.95835766e-01,  1.05192783e-01,  1.19415220e-01],\n",
       "       [ 9.99612069e-01,  3.30113223e-01,  1.00176056e+00,\n",
       "         9.88243612e-01,  2.07643090e-01,  5.57916732e-01,\n",
       "         7.17396452e-01,  8.52475240e-01,  1.83349443e-01,\n",
       "        -2.61937255e-01,  6.92982910e-01, -8.69138267e-02,\n",
       "         6.94355197e-01,  7.46294283e-01, -2.03050882e-01,\n",
       "         2.51185131e-01,  2.28483899e-01,  4.07933847e-01,\n",
       "        -8.17730406e-02, -5.53311534e-03,  9.71183188e-01,\n",
       "         3.03571890e-01,  9.72095315e-01,  9.43207466e-01,\n",
       "         1.50814456e-01,  4.56576647e-01,  5.64872009e-01,\n",
       "         7.72598608e-01,  1.89447989e-01,  5.11083511e-02],\n",
       "       [ 9.89095475e-01,  3.21650988e-01,  9.88243612e-01,\n",
       "         1.00176056e+00,  1.77340047e-01,  4.99379326e-01,\n",
       "         6.87190545e-01,  8.24718286e-01,  1.51559440e-01,\n",
       "        -2.83608244e-01,  7.33851949e-01, -6.63969041e-02,\n",
       "         7.27907603e-01,  8.01494523e-01, -1.67070287e-01,\n",
       "         2.12956816e-01,  2.08025659e-01,  3.72975776e-01,\n",
       "        -7.26242231e-02, -1.99219755e-02,  9.64441062e-01,\n",
       "         2.87994769e-01,  9.60808165e-01,  9.60902082e-01,\n",
       "         1.23740409e-01,  3.91097651e-01,  5.13508396e-01,\n",
       "         7.23287782e-01,  1.43822678e-01,  3.74417763e-03],\n",
       "       [ 1.70881506e-01, -2.34296930e-02,  2.07643090e-01,\n",
       "         1.77340047e-01,  1.00176056e+00,  6.60283643e-01,\n",
       "         5.22902753e-01,  5.54669988e-01,  5.58756786e-01,\n",
       "         5.85821565e-01,  3.01997850e-01,  6.85268821e-02,\n",
       "         2.96613222e-01,  2.46986503e-01,  3.32960611e-01,\n",
       "         3.19504817e-01,  2.48832996e-01,  3.81345895e-01,\n",
       "         2.01127852e-01,  2.84106006e-01,  2.13495353e-01,\n",
       "         3.61353055e-02,  2.39273141e-01,  2.07082304e-01,\n",
       "         8.06742020e-01,  4.73300254e-01,  4.35691429e-01,\n",
       "         5.03939011e-01,  3.95003689e-01,  5.00195447e-01],\n",
       "       [ 5.07014640e-01,  2.37118951e-01,  5.57916732e-01,\n",
       "         4.99379326e-01,  6.60283643e-01,  1.00176056e+00,\n",
       "         8.84675460e-01,  8.32598309e-01,  6.03702036e-01,\n",
       "         5.66364031e-01,  4.98349280e-01,  4.62861772e-02,\n",
       "         5.49871647e-01,  4.56455058e-01,  1.35537471e-01,\n",
       "         7.40022356e-01,  5.71521303e-01,  6.43392594e-01,\n",
       "         2.30381479e-01,  5.08211293e-01,  5.36257855e-01,\n",
       "         2.48569687e-01,  5.91249531e-01,  5.10500995e-01,\n",
       "         5.66536837e-01,  8.67333351e-01,  8.17712354e-01,\n",
       "         8.17009092e-01,  5.11121711e-01,  6.88592503e-01],\n",
       "       [ 6.77955036e-01,  3.02950254e-01,  7.17396452e-01,\n",
       "         6.87190545e-01,  5.22902753e-01,  8.84675460e-01,\n",
       "         1.00176056e+00,  9.23013194e-01,  5.01548072e-01,\n",
       "         3.37376288e-01,  6.33037366e-01,  7.63525354e-02,\n",
       "         6.61553447e-01,  6.18513825e-01,  9.87372735e-02,\n",
       "         6.71458893e-01,  6.92487233e-01,  6.84462839e-01,\n",
       "         1.78322604e-01,  4.50091771e-01,  6.89448091e-01,\n",
       "         3.00406844e-01,  7.30849362e-01,  6.77177350e-01,\n",
       "         4.49612218e-01,  7.56297185e-01,  8.85659158e-01,\n",
       "         8.62839447e-01,  4.10185014e-01,  5.15836457e-01],\n",
       "       [ 8.23976636e-01,  2.93980713e-01,  8.52475240e-01,\n",
       "         8.24718286e-01,  5.54669988e-01,  8.32598309e-01,\n",
       "         9.23013194e-01,  1.00176056e+00,  4.63311644e-01,\n",
       "         1.67211252e-01,  6.99278795e-01,  2.15173981e-02,\n",
       "         7.11901016e-01,  6.91513854e-01,  2.77019938e-02,\n",
       "         4.91287673e-01,  4.39940250e-01,  6.16717994e-01,\n",
       "         9.55186580e-02,  2.58037239e-01,  8.31779458e-01,\n",
       "         2.93267121e-01,  8.57430035e-01,  8.11055024e-01,\n",
       "         4.53550155e-01,  6.68628771e-01,  7.53724145e-01,\n",
       "         9.11757700e-01,  3.76405667e-01,  3.69310185e-01],\n",
       "       [ 1.48001350e-01,  7.15266864e-02,  1.83349443e-01,\n",
       "         1.51559440e-01,  5.58756786e-01,  6.03702036e-01,\n",
       "         5.01548072e-01,  4.63311644e-01,  1.00176056e+00,\n",
       "         4.80766262e-01,  3.03913382e-01,  1.28278372e-01,\n",
       "         3.14445389e-01,  2.24364533e-01,  1.87650956e-01,\n",
       "         4.22401505e-01,  3.43230240e-01,  3.93990298e-01,\n",
       "         4.49927276e-01,  3.32370277e-01,  1.86054739e-01,\n",
       "         9.08102844e-02,  2.19554419e-01,  1.77505338e-01,\n",
       "         4.27426215e-01,  4.74033112e-01,  4.34484601e-01,\n",
       "         4.31054176e-01,  7.01057885e-01,  4.39185353e-01],\n",
       "       [-3.12179472e-01, -7.65717560e-02, -2.61937255e-01,\n",
       "        -2.83608244e-01,  5.85821565e-01,  5.66364031e-01,\n",
       "         3.37376288e-01,  1.67211252e-01,  4.80766262e-01,\n",
       "         1.00176056e+00,  1.11190486e-04,  1.64463005e-01,\n",
       "         3.99000547e-02, -9.03289980e-02,  4.02672109e-01,\n",
       "         5.60822319e-01,  4.47416643e-01,  3.41798745e-01,\n",
       "         3.45614805e-01,  6.89343077e-01, -2.54138135e-01,\n",
       "        -5.13594647e-02, -2.05512393e-01, -2.32262646e-01,\n",
       "         5.05831058e-01,  4.59605900e-01,  3.46843443e-01,\n",
       "         1.75634121e-01,  3.34606745e-01,  7.68647654e-01],\n",
       "       [ 6.80285970e-01,  2.76354360e-01,  6.92982910e-01,\n",
       "         7.33851949e-01,  3.01997850e-01,  4.98349280e-01,\n",
       "         6.33037366e-01,  6.99278795e-01,  3.03913382e-01,\n",
       "         1.11190486e-04,  1.00176056e+00,  2.13622773e-01,\n",
       "         9.74506342e-01,  9.53505869e-01,  1.64803858e-01,\n",
       "         3.56691450e-01,  3.32942674e-01,  5.14250220e-01,\n",
       "         2.40990897e-01,  2.28154507e-01,  7.16324113e-01,\n",
       "         1.95141512e-01,  7.20950853e-01,  7.52871625e-01,\n",
       "         1.42168410e-01,  2.87608629e-01,  3.81254678e-01,\n",
       "         5.31997297e-01,  9.47092790e-02,  4.96466850e-02],\n",
       "       [-9.74887767e-02,  3.87037830e-01, -8.69138267e-02,\n",
       "        -6.63969041e-02,  6.85268821e-02,  4.62861772e-02,\n",
       "         7.63525354e-02,  2.15173981e-02,  1.28278372e-01,\n",
       "         1.64463005e-01,  2.13622773e-01,  1.00176056e+00,\n",
       "         2.23563635e-01,  1.11763668e-01,  3.97942224e-01,\n",
       "         2.32107621e-01,  1.95341772e-01,  2.30688828e-01,\n",
       "         4.12345364e-01,  2.80215217e-01, -1.11886951e-01,\n",
       "         4.09722842e-01, -1.02421925e-01, -8.33414586e-02,\n",
       "        -7.37873381e-02, -9.26020990e-02, -6.90776223e-02,\n",
       "        -1.19848153e-01, -1.28440488e-01, -4.57349464e-02],\n",
       "       [ 6.75358538e-01,  2.82169018e-01,  6.94355197e-01,\n",
       "         7.27907603e-01,  2.96613222e-01,  5.49871647e-01,\n",
       "         6.61553447e-01,  7.11901016e-01,  3.14445389e-01,\n",
       "         3.99000547e-02,  9.74506342e-01,  2.23563635e-01,\n",
       "         1.00176056e+00,  9.39306209e-01,  1.51341309e-01,\n",
       "         4.17055330e-01,  3.63119754e-01,  5.57243422e-01,\n",
       "         2.66956259e-01,  2.44572602e-01,  6.98428059e-01,\n",
       "         2.00723620e-01,  7.22300731e-01,  7.31999440e-01,\n",
       "         1.30283361e-01,  3.42521416e-01,  4.19636314e-01,\n",
       "         5.55874162e-01,  1.10123974e-01,  8.55829815e-02],\n",
       "       [ 7.37159198e-01,  2.60302460e-01,  7.46294283e-01,\n",
       "         8.01494523e-01,  2.46986503e-01,  4.56455058e-01,\n",
       "         6.18513825e-01,  6.91513854e-01,  2.24364533e-01,\n",
       "        -9.03289980e-02,  9.53505869e-01,  1.11763668e-01,\n",
       "         9.39306209e-01,  1.00176056e+00,  7.52826451e-02,\n",
       "         2.85341536e-01,  2.71371654e-01,  4.16461487e-01,\n",
       "         1.34345087e-01,  1.27294619e-01,  7.58706592e-01,\n",
       "         1.96842594e-01,  7.62552799e-01,  8.12836496e-01,\n",
       "         1.25610187e-01,  2.83755229e-01,  3.85778129e-01,\n",
       "         5.39113790e-01,  7.42567956e-02,  1.75701742e-02],\n",
       "       [-2.22992026e-01,  6.62542133e-03, -2.03050882e-01,\n",
       "        -1.67070287e-01,  3.32960611e-01,  1.35537471e-01,\n",
       "         9.87372735e-02,  2.77019938e-02,  1.87650956e-01,\n",
       "         4.02672109e-01,  1.64803858e-01,  3.97942224e-01,\n",
       "         1.51341309e-01,  7.52826451e-02,  1.00176056e+00,\n",
       "         3.37288855e-01,  2.69157796e-01,  3.29007720e-01,\n",
       "         4.14234129e-01,  4.28126626e-01, -2.31096855e-01,\n",
       "        -7.48745546e-02, -2.17686332e-01, -1.82516245e-01,\n",
       "         3.15011078e-01, -5.56559523e-02, -5.84010247e-02,\n",
       "        -1.02186386e-01, -1.07531080e-01,  1.01658978e-01],\n",
       "       [ 2.06362656e-01,  1.92312595e-01,  2.51185131e-01,\n",
       "         2.12956816e-01,  3.19504817e-01,  7.40022356e-01,\n",
       "         6.71458893e-01,  4.91287673e-01,  4.22401505e-01,\n",
       "         5.60822319e-01,  3.56691450e-01,  2.32107621e-01,\n",
       "         4.17055330e-01,  2.85341536e-01,  3.37288855e-01,\n",
       "         1.00176056e+00,  8.02679026e-01,  7.45392672e-01,\n",
       "         3.95407752e-01,  8.04683023e-01,  2.04967390e-01,\n",
       "         1.43254348e-01,  2.60974494e-01,  1.99722335e-01,\n",
       "         2.27794574e-01,  6.79975390e-01,  6.40271956e-01,\n",
       "         4.84059046e-01,  2.78367653e-01,  5.92013208e-01],\n",
       "       [ 1.94545531e-01,  1.43545353e-01,  2.28483899e-01,\n",
       "         2.08025659e-01,  2.48832996e-01,  5.71521303e-01,\n",
       "         6.92487233e-01,  4.39940250e-01,  3.43230240e-01,\n",
       "         4.47416643e-01,  3.32942674e-01,  1.95341772e-01,\n",
       "         3.63119754e-01,  2.71371654e-01,  2.69157796e-01,\n",
       "         8.02679026e-01,  1.00176056e+00,  7.73162805e-01,\n",
       "         3.09973347e-01,  7.28652769e-01,  1.87232571e-01,\n",
       "         1.00417464e-01,  2.27079511e-01,  1.88684259e-01,\n",
       "         1.68777943e-01,  4.85711424e-01,  6.63730620e-01,\n",
       "         4.41247742e-01,  1.98136040e-01,  4.40102736e-01],\n",
       "       [ 3.76831225e-01,  1.64139495e-01,  4.07933847e-01,\n",
       "         3.72975776e-01,  3.81345895e-01,  6.43392594e-01,\n",
       "         6.84462839e-01,  6.16717994e-01,  3.93990298e-01,\n",
       "         3.41798745e-01,  5.14250220e-01,  2.30688828e-01,\n",
       "         5.57243422e-01,  4.16461487e-01,  3.29007720e-01,\n",
       "         7.45392672e-01,  7.73162805e-01,  1.00176056e+00,\n",
       "         3.13330893e-01,  6.12119921e-01,  3.58757174e-01,\n",
       "         8.68939233e-02,  3.95694673e-01,  3.42873752e-01,\n",
       "         2.15729735e-01,  4.53685716e-01,  5.50559967e-01,\n",
       "         6.03510257e-01,  1.43367633e-01,  3.11201479e-01],\n",
       "       [-1.04504545e-01,  9.14323671e-03, -8.17730406e-02,\n",
       "        -7.26242231e-02,  2.01127852e-01,  2.30381479e-01,\n",
       "         1.78322604e-01,  9.55186580e-02,  4.49927276e-01,\n",
       "         3.45614805e-01,  2.40990897e-01,  4.12345364e-01,\n",
       "         2.66956259e-01,  1.34345087e-01,  4.14234129e-01,\n",
       "         3.95407752e-01,  3.09973347e-01,  3.13330893e-01,\n",
       "         1.00176056e+00,  3.69727869e-01, -1.28346334e-01,\n",
       "        -7.76098171e-02, -1.03935708e-01, -1.10537008e-01,\n",
       "        -1.26840915e-02,  6.03609620e-02,  3.71843990e-02,\n",
       "        -3.04669411e-02,  3.90088053e-01,  7.82169401e-02],\n",
       "       [-4.27163418e-02,  5.45533955e-02, -5.53311534e-03,\n",
       "        -1.99219755e-02,  2.84106006e-01,  5.08211293e-01,\n",
       "         4.50091771e-01,  2.58037239e-01,  3.32370277e-01,\n",
       "         6.89343077e-01,  2.28154507e-01,  2.80215217e-01,\n",
       "         2.44572602e-01,  1.27294619e-01,  4.28126626e-01,\n",
       "         8.04683023e-01,  7.28652769e-01,  6.12119921e-01,\n",
       "         3.69727869e-01,  1.00176056e+00, -3.75536172e-02,\n",
       "        -3.20065392e-03, -1.00215889e-03, -2.27761757e-02,\n",
       "         1.70868612e-01,  3.90845741e-01,  3.80643631e-01,\n",
       "         2.15582894e-01,  1.11289544e-01,  5.92369136e-01],\n",
       "       [ 9.71245907e-01,  3.53193674e-01,  9.71183188e-01,\n",
       "         9.64441062e-01,  2.13495353e-01,  5.36257855e-01,\n",
       "         6.89448091e-01,  8.31779458e-01,  1.86054739e-01,\n",
       "        -2.54138135e-01,  7.16324113e-01, -1.11886951e-01,\n",
       "         6.98428059e-01,  7.58706592e-01, -2.31096855e-01,\n",
       "         2.04967390e-01,  1.87232571e-01,  3.58757174e-01,\n",
       "        -1.28346334e-01, -3.75536172e-02,  1.00176056e+00,\n",
       "         3.60554418e-01,  9.95457402e-01,  9.85746984e-01,\n",
       "         2.16955724e-01,  4.76657749e-01,  5.74985227e-01,\n",
       "         7.88810161e-01,  2.43957953e-01,  9.36565772e-02],\n",
       "       [ 2.97530545e-01,  9.13650301e-01,  3.03571890e-01,\n",
       "         2.87994769e-01,  3.61353055e-02,  2.48569687e-01,\n",
       "         3.00406844e-01,  2.93267121e-01,  9.08102844e-02,\n",
       "        -5.13594647e-02,  1.95141512e-01,  4.09722842e-01,\n",
       "         2.00723620e-01,  1.96842594e-01, -7.48745546e-02,\n",
       "         1.43254348e-01,  1.00417464e-01,  8.68939233e-02,\n",
       "        -7.76098171e-02, -3.20065392e-03,  3.60554418e-01,\n",
       "         1.00176056e+00,  3.65741024e-01,  3.46451160e-01,\n",
       "         2.25826298e-01,  3.61467607e-01,  3.69014138e-01,\n",
       "         3.60387980e-01,  2.33437721e-01,  2.19508204e-01],\n",
       "       [ 9.66835698e-01,  3.58669926e-01,  9.72095315e-01,\n",
       "         9.60808165e-01,  2.39273141e-01,  5.91249531e-01,\n",
       "         7.30849362e-01,  8.57430035e-01,  2.19554419e-01,\n",
       "        -2.05512393e-01,  7.20950853e-01, -1.02421925e-01,\n",
       "         7.22300731e-01,  7.62552799e-01, -2.17686332e-01,\n",
       "         2.60974494e-01,  2.27079511e-01,  3.95694673e-01,\n",
       "        -1.03935708e-01, -1.00215889e-03,  9.95457402e-01,\n",
       "         3.65741024e-01,  1.00176056e+00,  9.79299180e-01,\n",
       "         2.37191461e-01,  5.30339746e-01,  6.19432713e-01,\n",
       "         8.17759288e-01,  2.69967228e-01,  1.39201504e-01],\n",
       "       [ 9.42739295e-01,  3.44150782e-01,  9.43207466e-01,\n",
       "         9.60902082e-01,  2.07082304e-01,  5.10500995e-01,\n",
       "         6.77177350e-01,  8.11055024e-01,  1.77505338e-01,\n",
       "        -2.32262646e-01,  7.52871625e-01, -8.33414586e-02,\n",
       "         7.31999440e-01,  8.12836496e-01, -1.82516245e-01,\n",
       "         1.99722335e-01,  1.88684259e-01,  3.42873752e-01,\n",
       "        -1.10537008e-01, -2.27761757e-02,  9.85746984e-01,\n",
       "         3.46451160e-01,  9.79299180e-01,  1.00176056e+00,\n",
       "         2.09513547e-01,  4.39067932e-01,  5.44287093e-01,\n",
       "         7.48734680e-01,  2.09513722e-01,  7.97872577e-02],\n",
       "       [ 1.19826732e-01,  7.76398084e-02,  1.50814456e-01,\n",
       "         1.23740409e-01,  8.06742020e-01,  5.66536837e-01,\n",
       "         4.49612218e-01,  4.53550155e-01,  4.27426215e-01,\n",
       "         5.05831058e-01,  1.42168410e-01, -7.37873381e-02,\n",
       "         1.30283361e-01,  1.25610187e-01,  3.15011078e-01,\n",
       "         2.27794574e-01,  1.68777943e-01,  2.15729735e-01,\n",
       "        -1.26840915e-02,  1.70868612e-01,  2.16955724e-01,\n",
       "         2.25826298e-01,  2.37191461e-01,  2.09513547e-01,\n",
       "         1.00176056e+00,  5.69186845e-01,  5.19436186e-01,\n",
       "         5.48655147e-01,  4.94707764e-01,  6.18711558e-01],\n",
       "       [ 4.14190751e-01,  2.78318729e-01,  4.56576647e-01,\n",
       "         3.91097651e-01,  4.73300254e-01,  8.67333351e-01,\n",
       "         7.56297185e-01,  6.68628771e-01,  4.74033112e-01,\n",
       "         4.59605900e-01,  2.87608629e-01, -9.26020990e-02,\n",
       "         3.42521416e-01,  2.83755229e-01, -5.56559523e-02,\n",
       "         6.79975390e-01,  4.85711424e-01,  4.53685716e-01,\n",
       "         6.03609620e-02,  3.90845741e-01,  4.76657749e-01,\n",
       "         3.61467607e-01,  5.30339746e-01,  4.39067932e-01,\n",
       "         5.69186845e-01,  1.00176056e+00,  8.93831781e-01,\n",
       "         8.02490717e-01,  6.15522263e-01,  8.11881713e-01],\n",
       "       [ 5.27839123e-01,  3.01555198e-01,  5.64872009e-01,\n",
       "         5.13508396e-01,  4.35691429e-01,  8.17712354e-01,\n",
       "         8.85659158e-01,  7.53724145e-01,  4.34484601e-01,\n",
       "         3.46843443e-01,  3.81254678e-01, -6.90776223e-02,\n",
       "         4.19636314e-01,  3.85778129e-01, -5.84010247e-02,\n",
       "         6.40271956e-01,  6.63730620e-01,  5.50559967e-01,\n",
       "         3.71843990e-02,  3.80643631e-01,  5.74985227e-01,\n",
       "         3.69014138e-01,  6.19432713e-01,  5.44287093e-01,\n",
       "         5.19436186e-01,  8.93831781e-01,  1.00176056e+00,\n",
       "         8.56939906e-01,  5.33457264e-01,  6.87719567e-01],\n",
       "       [ 7.45524434e-01,  2.95835766e-01,  7.72598608e-01,\n",
       "         7.23287782e-01,  5.03939011e-01,  8.17009092e-01,\n",
       "         8.62839447e-01,  9.11757700e-01,  4.31054176e-01,\n",
       "         1.75634121e-01,  5.31997297e-01, -1.19848153e-01,\n",
       "         5.55874162e-01,  5.39113790e-01, -1.02186386e-01,\n",
       "         4.84059046e-01,  4.41247742e-01,  6.03510257e-01,\n",
       "        -3.04669411e-02,  2.15582894e-01,  7.88810161e-01,\n",
       "         3.60387980e-01,  8.17759288e-01,  7.48734680e-01,\n",
       "         5.48655147e-01,  8.02490717e-01,  8.56939906e-01,\n",
       "         1.00176056e+00,  5.03413227e-01,  5.12013995e-01],\n",
       "       [ 1.64241985e-01,  1.05192783e-01,  1.89447989e-01,\n",
       "         1.43822678e-01,  3.95003689e-01,  5.11121711e-01,\n",
       "         4.10185014e-01,  3.76405667e-01,  7.01057885e-01,\n",
       "         3.34606745e-01,  9.47092790e-02, -1.28440488e-01,\n",
       "         1.10123974e-01,  7.42567956e-02, -1.07531080e-01,\n",
       "         2.78367653e-01,  1.98136040e-01,  1.43367633e-01,\n",
       "         3.90088053e-01,  1.11289544e-01,  2.43957953e-01,\n",
       "         2.33437721e-01,  2.69967228e-01,  2.09513722e-01,\n",
       "         4.94707764e-01,  6.15522263e-01,  5.33457264e-01,\n",
       "         5.03413227e-01,  1.00176056e+00,  5.38795122e-01],\n",
       "       [ 7.07832563e-03,  1.19415220e-01,  5.11083511e-02,\n",
       "         3.74417763e-03,  5.00195447e-01,  6.88592503e-01,\n",
       "         5.15836457e-01,  3.69310185e-01,  4.39185353e-01,\n",
       "         7.68647654e-01,  4.96466850e-02, -4.57349464e-02,\n",
       "         8.55829815e-02,  1.75701742e-02,  1.01658978e-01,\n",
       "         5.92013208e-01,  4.40102736e-01,  3.11201479e-01,\n",
       "         7.82169401e-02,  5.92369136e-01,  9.36565772e-02,\n",
       "         2.19508204e-01,  1.39201504e-01,  7.97872577e-02,\n",
       "         6.18711558e-01,  8.11881713e-01,  6.87719567e-01,\n",
       "         5.12013995e-01,  5.38795122e-01,  1.00176056e+00]])"
      ]
     },
     "execution_count": 12,
     "metadata": {},
     "output_type": "execute_result"
    }
   ],
   "source": [
    "# Calculo da matriz de covariancia\n",
    "\n",
    "scaled_mean = Scaled_data - np.mean(Scaled_data, axis=0)\n",
    "\n",
    "cov_mat = np.cov(scaled_mean, rowvar = False)\n",
    "\n",
    "cov_mat"
   ]
  },
  {
   "cell_type": "code",
   "execution_count": 13,
   "metadata": {},
   "outputs": [],
   "source": [
    "# Calculo dos AutoVetores e AutoValores\n",
    "eigen_values , eigen_vectors = np.linalg.eigh(cov_mat)\n",
    "\n",
    "# Ordena-los\n",
    "sorted_index = np.argsort(eigen_values)[::-1]\n",
    " \n",
    "sorted_eigenvalue = eigen_values[sorted_index]\n",
    "\n",
    "sorted_eigenvectors = eigen_vectors[:,sorted_index]"
   ]
  },
  {
   "cell_type": "code",
   "execution_count": 15,
   "metadata": {},
   "outputs": [
    {
     "data": {
      "text/plain": [
       "array([1.33049908e+01, 5.70137460e+00, 2.82291016e+00, 1.98412752e+00,\n",
       "       1.65163324e+00, 1.20948224e+00, 6.76408882e-01, 4.77456255e-01,\n",
       "       4.17628782e-01, 3.51310875e-01, 2.94433153e-01, 2.61621161e-01,\n",
       "       2.41782421e-01, 1.57286149e-01, 9.43006956e-02, 8.00034045e-02,\n",
       "       5.95036135e-02, 5.27114222e-02, 4.95647002e-02, 3.12142606e-02,\n",
       "       3.00256631e-02, 2.74877113e-02, 2.43836914e-02, 1.80867940e-02,\n",
       "       1.55085271e-02, 8.19203712e-03, 6.91261258e-03, 1.59213600e-03,\n",
       "       7.50121413e-04, 1.33279057e-04])"
      ]
     },
     "execution_count": 15,
     "metadata": {},
     "output_type": "execute_result"
    }
   ],
   "source": [
    "sorted_eigenvalue"
   ]
  },
  {
   "cell_type": "markdown",
   "metadata": {},
   "source": [
    "13 e 5 as variáveis de maior variância"
   ]
  },
  {
   "cell_type": "code",
   "execution_count": 14,
   "metadata": {},
   "outputs": [],
   "source": [
    "# Aplicar a quantidade de autvetores\n",
    "\n",
    "n_components = 2 \n",
    "eigenvector_subset = sorted_eigenvectors[:,0:n_components]"
   ]
  },
  {
   "cell_type": "code",
   "execution_count": 18,
   "metadata": {},
   "outputs": [],
   "source": [
    "# Multiplicar a matriz pelos autovetores de maior variancia\n",
    "\n",
    "X_reduced = np.dot(eigenvector_subset.transpose(),scaled_mean.transpose()).transpose()"
   ]
  },
  {
   "cell_type": "code",
   "execution_count": 25,
   "metadata": {},
   "outputs": [
    {
     "data": {
      "text/plain": [
       "array([-9.19283683, -1.94858307])"
      ]
     },
     "execution_count": 25,
     "metadata": {},
     "output_type": "execute_result"
    }
   ],
   "source": [
    "X_reduced[0]"
   ]
  },
  {
   "cell_type": "code",
   "execution_count": 27,
   "metadata": {},
   "outputs": [
    {
     "data": {
      "text/plain": [
       "array([[ -9.19283683,  -2.3878018 ,  -5.73389628, ...,  -1.25617928,\n",
       "        -10.37479406,   5.4752433 ],\n",
       "       [ -1.94858307,   3.76817174,   1.0751738 , ...,   1.90229671,\n",
       "         -1.67201011,   0.67063679]])"
      ]
     },
     "execution_count": 27,
     "metadata": {},
     "output_type": "execute_result"
    }
   ],
   "source": [
    "X_reduced.T"
   ]
  },
  {
   "cell_type": "code",
   "execution_count": 37,
   "metadata": {},
   "outputs": [],
   "source": [
    "matriz = pd.DataFrame(X_reduced)"
   ]
  },
  {
   "cell_type": "code",
   "execution_count": 39,
   "metadata": {},
   "outputs": [],
   "source": [
    "matriz['Target'] = data['target']"
   ]
  },
  {
   "cell_type": "code",
   "execution_count": 45,
   "metadata": {},
   "outputs": [],
   "source": [
    "matriz = matriz.rename(columns={0: 'Variavel1', 1: 'Variavel2'})"
   ]
  },
  {
   "cell_type": "code",
   "execution_count": 54,
   "metadata": {},
   "outputs": [
    {
     "data": {
      "text/plain": [
       "<AxesSubplot:xlabel='Variavel1', ylabel='Variavel2'>"
      ]
     },
     "execution_count": 54,
     "metadata": {},
     "output_type": "execute_result"
    },
    {
     "data": {
      "image/png": "[encoded data removed]",
      "text/plain": [
       "<Figure size 432x432 with 1 Axes>"
      ]
     },
     "metadata": {
      "needs_background": "light"
     },
     "output_type": "display_data"
    }
   ],
   "source": [
    "import matplotlib.pyplot as plt\n",
    "import seaborn as sb\n",
    "\n",
    "plt.figure(figsize = (6,6))\n",
    "sb.scatterplot(data = matriz , x = 'Variavel1' ,y ='Variavel2' , hue = 'Target', palette= 'icefire')"
   ]
  },
  {
   "cell_type": "markdown",
   "metadata": {},
   "source": [
    "Agora conseguimos visualizar uma base de 30 variáveis em um plano bidimensional."
   ]
  },
  {
   "cell_type": "markdown",
   "metadata": {},
   "source": [
    "### Usando o algoritmo pronto do Sklearn"
   ]
  },
  {
   "cell_type": "code",
   "execution_count": 56,
   "metadata": {},
   "outputs": [
    {
     "data": {
      "text/plain": [
       "(569, 2)"
      ]
     },
     "execution_count": 56,
     "metadata": {},
     "output_type": "execute_result"
    }
   ],
   "source": [
    "from sklearn.decomposition import PCA\n",
    "from sklearn.preprocessing import StandardScaler\n",
    "\n",
    "\n",
    "principal=PCA(n_components=2)\n",
    "principal.fit(Scaled_data)\n",
    "x=principal.transform(Scaled_data)\n",
    "x.shape"
   ]
  },
  {
   "cell_type": "code",
   "execution_count": 59,
   "metadata": {},
   "outputs": [],
   "source": [
    "df3 = pd.DataFrame(x)\n",
    "df3 = df3.rename(columns={0: 'Variavel1', 1: 'Variavel2'})\n",
    "df3['Target'] = data['target']"
   ]
  },
  {
   "cell_type": "code",
   "execution_count": 62,
   "metadata": {},
   "outputs": [
    {
     "data": {
      "text/plain": [
       "<AxesSubplot:xlabel='Variavel1', ylabel='Variavel2'>"
      ]
     },
     "execution_count": 62,
     "metadata": {},
     "output_type": "execute_result"
    },
    {
     "data": {
      "image/png": "[encoded data removed]",
      "text/plain": [
       "<Figure size 432x288 with 1 Axes>"
      ]
     },
     "metadata": {
      "needs_background": "light"
     },
     "output_type": "display_data"
    }
   ],
   "source": [
    "sb.scatterplot(data = df3 , x = 'Variavel1' ,y ='Variavel2' , hue = 'Target', palette= 'icefire')"
   ]
  },
  {
   "cell_type": "markdown",
   "metadata": {},
   "source": [
    "Obtivemos o mesmo resultado"
   ]
  },
  {
   "cell_type": "markdown",
   "metadata": {},
   "source": [
    "## Referencias\n",
    "\n",
    "https://www.geeksforgeeks.org/implementing-pca-in-python-with-scikit-learn/?ref=gcse\n",
    "\n",
    "https://www.kdnuggets.com/2020/05/dimensionality-reduction-principal-component-analysis.html\n",
    "\n",
    "https://towardsdatascience.com/understanding-pca-autoencoders-algorithms-everyone-can-understand-28ee89b570e2\n",
    "\n",
    "http://www.ic.uff.br/~aconci/PCA-ACP.pdf\n",
    "\n",
    "https://www.askpython.com/python/examples/principal-component-analysis\n"
   ]
  },
  {
   "cell_type": "markdown",
   "metadata": {},
   "source": []
  }
 ],
 "metadata": {
  "interpreter": {
   "hash": "916dbcbb3f70747c44a77c7bcd40155683ae19c65e1c03b4aa3499c5328201f1"
  },
  "kernelspec": {
   "display_name": "Python 3.8.10 64-bit",
   "language": "python",
   "name": "python3"
  },
  "language_info": {
   "codemirror_mode": {
    "name": "ipython",
    "version": 3
   },
   "file_extension": ".py",
   "mimetype": "text/x-python",
   "name": "python",
   "nbconvert_exporter": "python",
   "pygments_lexer": "ipython3",
   "version": "3.8.10"
  },
  "orig_nbformat": 4
 },
 "nbformat": 4,
 "nbformat_minor": 2
}
