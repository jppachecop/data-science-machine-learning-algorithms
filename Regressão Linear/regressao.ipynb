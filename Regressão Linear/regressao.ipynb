{
 "cells": [
  {
   "cell_type": "markdown",
   "metadata": {},
   "source": [
    "# Regressão Linear e Polinomial\n",
    "\n",
    "Nesse notebook apresenta os tipos de regressão com exemplos.\n",
    "\n",
    "Regressão linear relaciona os dados, criando uma interpolação entre eles. Ou seja,quando se tem valores independetes (x1,x2,...,xn) e você tenta estimar uma variável dependente y através de uma equação linear.\n",
    "\n"
   ]
  },
  {
   "cell_type": "markdown",
   "metadata": {},
   "source": [
    "<img src =\"imgs/regressao_linear_simples.png\">"
   ]
  },
  {
   "cell_type": "markdown",
   "metadata": {},
   "source": [
    "Para conseguir estimar os valores y, o algoritmo cria uma função genérica e coloca pesos nas variáveis independentes. Essas estimativas gerarão erros pois a reta não passará em todos os pontos de y com precisão. O algoritmo tenta reduzir ao máximo o valor dos erros através do gradiente descendente.\n",
    "\n",
    "Esses erros são calculado através das funções de erros. Nesse notebook usaremos a Média Quadrada.\n",
    "\n",
    "O gradiente descente é obtido através da derivada da função de erro(lossFunc) em relação aos valores das variáveis independentes. Ele é atrelado à taxa de aprendizagem. O gradiente mostrará o caminho da função onde o erro é menor, a taxa de aprendizagem é o tamanho do passo que a função dará na direção dele.\n",
    "\n",
    "$$ erro := erro - lr*\\dfrac{\\partial}{\\partial\\theta}(lossFunc)  $$\n",
    "\n",
    "Dessa forma teremos os novos valores atrelados às variáveis independentes"
   ]
  },
  {
   "cell_type": "markdown",
   "metadata": {},
   "source": [
    "<img src=\"imgs/gradiente.png\">"
   ]
  },
  {
   "cell_type": "markdown",
   "metadata": {},
   "source": [
    "Portanto o algoritmo estima, gera os erros, encontra o gradiente descendente, e encontra uma nova função onde o erro é menor."
   ]
  },
  {
   "cell_type": "markdown",
   "metadata": {},
   "source": [
    "## Aplicações"
   ]
  },
  {
   "cell_type": "code",
   "execution_count": 1,
   "metadata": {},
   "outputs": [],
   "source": [
    "import matplotlib.pyplot as plt\n",
    "import torch\n",
    "import numpy as np"
   ]
  },
  {
   "cell_type": "markdown",
   "metadata": {},
   "source": [
    "## Regressão Linear Simples\n",
    "\n",
    "Possui apenas uma variável independente\n",
    "\n",
    "$$ Y = aX + b $$\n",
    "\n",
    "Estima-se uma equação com apenas uma variável"
   ]
  },
  {
   "cell_type": "markdown",
   "metadata": {},
   "source": [
    "### Problema\n",
    "\n",
    "Problema foi estraido de <a href= \"https://pt.khanacademy.org/math/statistics-probability/describing-relationships-quantitative-data/introduction-to-trend-lines/a/equations-of-trend-lines-phone-data\">KhanAcademy</a>:\n",
    "\n",
    "Paula coletou dados sobre quanto tempo ela passou no telefone comparado a quanta bateria restava (em horas) ao longo do dia. Aqui estão os dados que ela obteve:\n",
    "\n",
    "$$\n",
    "\\begin{matrix}\n",
    "Tempo & 1 & 2 & 3,5 & 4 & 6 & 7 & 8 & 9 \\\\\n",
    "Bateria & 8 & 7 & 7 & 5,5 & 5 & 3,5 & 2,5 & 2,5\n",
    "\\end{matrix}\n",
    "$$\n",
    "\n",
    "Vamos aplicar o algoritmo de regressão linear simples e encontrar a melhor linha de tendência entre eles."
   ]
  },
  {
   "cell_type": "code",
   "execution_count": 2,
   "metadata": {},
   "outputs": [],
   "source": [
    "# Tensor tempo\n",
    "y_ls = torch.tensor([8,7,7,5.5,5,3.5,2.5,2.5])\n",
    "x_ls = torch.tensor([1,2,3.5,4,6,7,8,9])\n"
   ]
  },
  {
   "cell_type": "code",
   "execution_count": 3,
   "metadata": {},
   "outputs": [
    {
     "data": {
      "image/png": "[encoded data removed]",
      "text/plain": [
       "<Figure size 432x288 with 1 Axes>"
      ]
     },
     "metadata": {
      "needs_background": "light"
     },
     "output_type": "display_data"
    }
   ],
   "source": [
    "fig, ax = plt.subplots()\n",
    "ax.scatter(x_ls, y_ls)\n",
    "ax.set(xlim=(0, 10),\n",
    "       ylim=(0, 10))\n",
    "plt.show()"
   ]
  },
  {
   "cell_type": "code",
   "execution_count": 4,
   "metadata": {},
   "outputs": [],
   "source": [
    "from torch.utils.data import TensorDataset\n",
    "train_ds = TensorDataset(x_ls, y_ls)"
   ]
  },
  {
   "cell_type": "code",
   "execution_count": 5,
   "metadata": {},
   "outputs": [],
   "source": [
    "model = torch.nn.Linear(1,1) # Modelo de regressão\n",
    "batch_size = 1"
   ]
  },
  {
   "cell_type": "code",
   "execution_count": 6,
   "metadata": {},
   "outputs": [],
   "source": [
    "from torch.utils.data import DataLoader\n",
    "train_dl = DataLoader(train_ds, batch_size, shuffle=True)"
   ]
  },
  {
   "cell_type": "code",
   "execution_count": 7,
   "metadata": {},
   "outputs": [],
   "source": [
    "model1 = torch.nn.Linear(1,1) # Modelo de regressão\n",
    "loss_fn = torch.nn.MSELoss() # Funçao de perda\n",
    "opt = torch.optim.SGD(model.parameters(), lr=1e-2) # Otimizador, com gradiente"
   ]
  },
  {
   "cell_type": "code",
   "execution_count": 8,
   "metadata": {},
   "outputs": [],
   "source": [
    "def train(nEpochs = 5, model):\n",
    "    errors_train = []\n",
    "    for epoch in range(nEpochs):\n",
    "        train_loss = 0\n",
    "        for x, y in train_dl:\n",
    "            opt.zero_grad() # Zera o gradiente\n",
    "            out = model(x) # Faz a predição\n",
    "\n",
    "            loss = loss_fn(out, y) # Calcula o erro\n",
    "            train_loss += loss.item() # Soma o erro em todas as variáveis\n",
    "            loss.backward() # Calcula o gradiente\n",
    "            opt.step() # Aplica o gradiente\n",
    "        errors_train.append(train_loss)\n",
    "        if (not epoch%10):\n",
    "            print(f\"Epochs: {epoch}, error train: {errors_train[-1]}\")\n",
    "    return errors_train"
   ]
  },
  {
   "cell_type": "code",
   "execution_count": 9,
   "metadata": {},
   "outputs": [
    {
     "name": "stdout",
     "output_type": "stream",
     "text": [
      "Epochs: 0, error train: 179.37222677469254\n",
      "Epochs: 10, error train: 70.09282956644893\n",
      "Epochs: 20, error train: 33.893654584884644\n",
      "Epochs: 30, error train: 17.933066710829735\n",
      "Epochs: 40, error train: 10.531042615417391\n",
      "Epochs: 50, error train: 5.2309103310108185\n",
      "Epochs: 60, error train: 6.823947822413174\n",
      "Epochs: 70, error train: 3.810775912948884\n",
      "Epochs: 80, error train: 3.378644321113825\n",
      "Epochs: 90, error train: 3.724305760115385\n"
     ]
    }
   ],
   "source": [
    "erro = train(100, model1)"
   ]
  },
  {
   "cell_type": "code",
   "execution_count": 10,
   "metadata": {},
   "outputs": [
    {
     "name": "stdout",
     "output_type": "stream",
     "text": [
      "tensor([7.9748], grad_fn=<AddBackward0>)\n"
     ]
    }
   ],
   "source": [
    "print(model(x_ls[[0]]))"
   ]
  },
  {
   "cell_type": "code",
   "execution_count": 18,
   "metadata": {},
   "outputs": [],
   "source": [
    "y_pred = []\n",
    "for x in range(len(x_ls)):\n",
    "    y_pred.append(model(x_ls[[x]]))\n",
    "\n",
    "y_pred = [y_pred[x].item() for x in range(len(y_pred))]"
   ]
  },
  {
   "cell_type": "code",
   "execution_count": 23,
   "metadata": {},
   "outputs": [
    {
     "data": {
      "text/plain": [
       "[<matplotlib.lines.Line2D at 0x7f239fe75670>]"
      ]
     },
     "execution_count": 23,
     "metadata": {},
     "output_type": "execute_result"
    },
    {
     "data": {
      "image/png": "[encoded data removed]",
      "text/plain": [
       "<Figure size 432x288 with 1 Axes>"
      ]
     },
     "metadata": {
      "needs_background": "light"
     },
     "output_type": "display_data"
    }
   ],
   "source": [
    "fig, ax = plt.subplots()\n",
    "ax.set(xlim=(0, 10),\n",
    "       ylim=(0, 10))\n",
    "plt.plot(x_ls, y_ls, 'o')\n",
    "plt.plot(x_ls, y_pred)"
   ]
  },
  {
   "cell_type": "code",
   "execution_count": 22,
   "metadata": {},
   "outputs": [
    {
     "name": "stdout",
     "output_type": "stream",
     "text": [
      "[Parameter containing:\n",
      "tensor([[-0.6475]], requires_grad=True), Parameter containing:\n",
      "tensor([8.6223], requires_grad=True)]\n"
     ]
    }
   ],
   "source": [
    "print(list(model.parameters()))"
   ]
  },
  {
   "cell_type": "markdown",
   "metadata": {},
   "source": [
    "A função gerada foi \n",
    "\n",
    "$$Y = -0.6475X + 8.6223$$\n",
    "\n"
   ]
  },
  {
   "cell_type": "markdown",
   "metadata": {},
   "source": [
    "## Regressão Polinomial\n",
    "Diferente dos outros algoritmos apresentados, esse cria uma função não linear. Muitos problemas não são lineares mas sim em forma de parabolas ou outras formas. Os algoritmos de regressão polinomial conseguem interpolar esses tipos de dados.\n",
    "\n",
    "$$Y = a1X + a2X^2 + ... + anX^n + b$$\n"
   ]
  },
  {
   "cell_type": "markdown",
   "metadata": {},
   "source": [
    "### Problema\n",
    "\n",
    "Para esse algoritmo iremos usar dados gerados a partir da função\n",
    "\n",
    "$$Y = \\frac{X³}{5} - 2X² + 3X + B$$\n",
    "\n",
    "Onde B é o ruído\n",
    "\n",
    "Depois de gerar os valores reais poderemos ver a função que a regressão irá nos mostrar"
   ]
  },
  {
   "cell_type": "code",
   "execution_count": 52,
   "metadata": {},
   "outputs": [],
   "source": [
    "x_rp = np.array([x for x in range(-15,15)])"
   ]
  },
  {
   "cell_type": "code",
   "execution_count": 86,
   "metadata": {},
   "outputs": [],
   "source": [
    "# Criar valores de Y com algum ruído\n",
    "y_rp = ((1/5*(x_rp*x_rp*x_rp)) - (2*(x_rp*x_rp)) + x_rp) + np.random.normal(10000, 70, 30)"
   ]
  },
  {
   "cell_type": "code",
   "execution_count": 87,
   "metadata": {},
   "outputs": [
    {
     "data": {
      "image/png": "[encoded data removed]",
      "text/plain": [
       "<Figure size 432x288 with 1 Axes>"
      ]
     },
     "metadata": {
      "needs_background": "light"
     },
     "output_type": "display_data"
    }
   ],
   "source": [
    "fig, ax = plt.subplots()\n",
    "ax.scatter(x_rp, y_rp)\n",
    "# ax.set(xlim=(0, 10),\n",
    "#        ylim=(0, 10))\n",
    "plt.show()"
   ]
  },
  {
   "cell_type": "code",
   "execution_count": null,
   "metadata": {},
   "outputs": [],
   "source": [
    "train_ds_rp = "
   ]
  },
  {
   "cell_type": "markdown",
   "metadata": {},
   "source": [
    "Podemos tentar predizer com o modelo linear porém iremos perceber que o resultado será muito longe do esperado."
   ]
  },
  {
   "cell_type": "code",
   "execution_count": null,
   "metadata": {},
   "outputs": [],
   "source": []
  }
 ],
 "metadata": {
  "interpreter": {
   "hash": "916dbcbb3f70747c44a77c7bcd40155683ae19c65e1c03b4aa3499c5328201f1"
  },
  "kernelspec": {
   "display_name": "Python 3.8.10 64-bit",
   "language": "python",
   "name": "python3"
  },
  "language_info": {
   "codemirror_mode": {
    "name": "ipython",
    "version": 3
   },
   "file_extension": ".py",
   "mimetype": "text/x-python",
   "name": "python",
   "nbconvert_exporter": "python",
   "pygments_lexer": "ipython3",
   "version": "3.8.10"
  },
  "orig_nbformat": 4
 },
 "nbformat": 4,
 "nbformat_minor": 2
}
