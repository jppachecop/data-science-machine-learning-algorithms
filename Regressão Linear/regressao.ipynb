{
 "cells": [
  {
   "cell_type": "markdown",
   "metadata": {},
   "source": [
    "# Regressão Linear e Polinomial\n",
    "\n",
    "Nesse notebook apresenta os tipos de regressão com exemplos.\n",
    "\n",
    "Regressão linear relaciona os dados, criando uma interpolação entre eles. Ou seja,quando se tem valores independetes (x1,x2,...,xn) e você tenta estimar uma variável dependente y através de uma equação linear.\n",
    "\n"
   ]
  },
  {
   "cell_type": "markdown",
   "metadata": {},
   "source": [
    "<img src =\"imgs/regressao_linear_simples.png\">"
   ]
  },
  {
   "cell_type": "markdown",
   "metadata": {},
   "source": [
    "Para conseguir estimar os valores y, o algoritmo cria uma função genérica e coloca pesos nas variáveis independentes. Essas estimativas gerarão erros pois a reta não passará em todos os pontos de y com precisão. O algoritmo tenta reduzir ao máximo o valor dos erros através do gradiente descendente.\n",
    "\n",
    "Esses erros são calculado através das funções de erros. Nesse notebook usaremos a Média Quadrada.\n",
    "\n",
    "O gradiente descente é obtido através da derivada da função de erro(lossFunc) em relação aos valores das variáveis independentes. Ele é atrelado à taxa de aprendizagem. O gradiente mostrará o caminho da função onde o erro é menor, a taxa de aprendizagem é o tamanho do passo que a função dará na direção dele.\n",
    "\n",
    "$$ erro := erro - lr*\\dfrac{\\partial}{\\partial\\theta}(lossFunc)  $$\n",
    "\n",
    "Dessa forma teremos os novos valores atrelados às variáveis independentes"
   ]
  },
  {
   "cell_type": "markdown",
   "metadata": {},
   "source": [
    "<img src=\"imgs/gradiente.png\">"
   ]
  },
  {
   "cell_type": "markdown",
   "metadata": {},
   "source": [
    "Portanto o algoritmo estima, gera os erros, encontra o gradiente descendente, e encontra uma nova função onde o erro é menor."
   ]
  },
  {
   "cell_type": "markdown",
   "metadata": {},
   "source": [
    "## Aplicações"
   ]
  },
  {
   "cell_type": "code",
   "execution_count": 2,
   "metadata": {},
   "outputs": [],
   "source": [
    "import matplotlib.pyplot as plt\n",
    "import torch"
   ]
  },
  {
   "cell_type": "code",
   "execution_count": null,
   "metadata": {},
   "outputs": [],
   "source": []
  },
  {
   "cell_type": "markdown",
   "metadata": {},
   "source": [
    "## Regressão Linear Simples\n",
    "\n",
    "Possui apenas uma variável independente\n",
    "\n",
    "$$ Y = aX + b $$\n",
    "\n",
    "Estima-se uma equação com apenas uma variável"
   ]
  },
  {
   "cell_type": "markdown",
   "metadata": {},
   "source": [
    "### Problema\n",
    "\n",
    "Problema foi estraido de <a href= \"https://pt.khanacademy.org/math/statistics-probability/describing-relationships-quantitative-data/introduction-to-trend-lines/a/equations-of-trend-lines-phone-data\">KhanAcademy</a>:\n",
    "\n",
    "Paula coletou dados sobre quanto tempo ela passou no telefone comparado a quanta bateria restava (em horas) ao longo do dia. Aqui estão os dados que ela obteve:\n",
    "\n",
    "$$\n",
    "\\begin{matrix}\n",
    "Tempo & 1 & 2 & 3,5 & 4 & 6 & 7 & 8 & 9 \\\\\n",
    "Bateria & 8 & 7 & 7 & 5,5 & 5 & 3,5 & 2,5 & 2,5\n",
    "\\end{matrix}\n",
    "$$\n",
    "\n",
    "Vamos aplicar o algoritmo de regressão linear simples e encontrar a melhor linha de tendência entre eles."
   ]
  },
  {
   "cell_type": "code",
   "execution_count": 5,
   "metadata": {},
   "outputs": [],
   "source": [
    "# Tensor tempo\n",
    "y_ls = torch.tensor([8,7,7,5.5,5,3.5,2.5,2.5])\n",
    "x_ls = torch.tensor([1,2,3.5,4,6,7,8,9])\n"
   ]
  },
  {
   "cell_type": "code",
   "execution_count": 7,
   "metadata": {},
   "outputs": [
    {
     "data": {
      "image/png": "[encoded data removed]",
      "text/plain": [
       "<Figure size 432x288 with 1 Axes>"
      ]
     },
     "metadata": {
      "needs_background": "light"
     },
     "output_type": "display_data"
    }
   ],
   "source": [
    "fig, ax = plt.subplots()\n",
    "ax.scatter(x_ls, y_ls)\n",
    "ax.set(xlim=(0, 10),\n",
    "       ylim=(0, 10))\n",
    "plt.show()"
   ]
  },
  {
   "cell_type": "code",
   "execution_count": null,
   "metadata": {},
   "outputs": [],
   "source": []
  },
  {
   "cell_type": "markdown",
   "metadata": {},
   "source": [
    "## Regressão Linear Multi Variável\n",
    "Esse algoritmo cria uma função linear com várias variáveis independentes para predizer o Y\n",
    "\n",
    "$$ Y = a1X1 + a2X2 + ... + anXn + b $$\n",
    "\n"
   ]
  },
  {
   "cell_type": "markdown",
   "metadata": {},
   "source": [
    "## Regressão Polinomial\n",
    "Diferente dos outros algoritmos apresentados, esse cria uma função não linear. As vezes os dados não são lineares"
   ]
  },
  {
   "cell_type": "code",
   "execution_count": null,
   "metadata": {},
   "outputs": [],
   "source": []
  }
 ],
 "metadata": {
  "interpreter": {
   "hash": "916dbcbb3f70747c44a77c7bcd40155683ae19c65e1c03b4aa3499c5328201f1"
  },
  "kernelspec": {
   "display_name": "Python 3.8.10 64-bit",
   "language": "python",
   "name": "python3"
  },
  "language_info": {
   "codemirror_mode": {
    "name": "ipython",
    "version": 3
   },
   "file_extension": ".py",
   "mimetype": "text/x-python",
   "name": "python",
   "nbconvert_exporter": "python",
   "pygments_lexer": "ipython3",
   "version": "3.8.10"
  },
  "orig_nbformat": 4
 },
 "nbformat": 4,
 "nbformat_minor": 2
}
