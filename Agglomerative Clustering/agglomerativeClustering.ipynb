{
  "cells": [
    {
      "cell_type": "code",
      "execution_count": 2,
      "metadata": {
        "id": "XjFJWV8qG5aM"
      },
      "outputs": [],
      "source": [
        "import pandas as pd\n",
        "import numpy as np\n",
        "import matplotlib.pyplot as plt\n",
        "from sklearn.decomposition import PCA\n",
        "from sklearn.cluster import AgglomerativeClustering\n",
        "from sklearn.preprocessing import StandardScaler, normalize\n",
        "from sklearn.metrics import silhouette_score\n",
        "import scipy.cluster.hierarchy as shc"
      ]
    },
    {
      "cell_type": "code",
      "execution_count": 5,
      "metadata": {
        "id": "7s0uRXmIJEto"
      },
      "outputs": [],
      "source": [
        "X = pd.read_csv('./credit_card.csv')\n",
        "  \n",
        "# Removendo o CUST_ID do dataset\n",
        "X = X.drop('CUST_ID', axis = 1)\n",
        "  \n",
        "X.fillna(method ='ffill', inplace = True)\n",
        "\n",
        "# Escalando os dados para que sejam melhor comparáveis\n",
        "scaler = StandardScaler()\n",
        "X_scaled = scaler.fit_transform(X)\n",
        "  \n",
        "# Normalizando o dataset\n",
        "X_normalized = normalize(X_scaled)\n",
        "  \n",
        "# Convertendo em um data frame\n",
        "X_normalized = pd.DataFrame(X_normalized)\n",
        "\n",
        "# Reduzindo a dimensão dos dados\n",
        "pca = PCA(n_components = 2)\n",
        "X_principal = pca.fit_transform(X_normalized)\n",
        "X_principal = pd.DataFrame(X_principal)\n",
        "X_principal.columns = ['P1', 'P2']"
      ]
    },
    {
      "cell_type": "code",
      "execution_count": 6,
      "metadata": {
        "colab": {
          "base_uri": "https://localhost:8080/",
          "height": 502
        },
        "id": "lL-a7dGyKDtG",
        "outputId": "d06e6640-1827-4cff-b1fd-5d6ae9fcd4bd"
      },
      "outputs": [
        {
          "data": {
            "image/png": "[encoded data removed]",
            "text/plain": [
              "<Figure size 576x576 with 1 Axes>"
            ]
          },
          "metadata": {
            "needs_background": "light"
          },
          "output_type": "display_data"
        }
      ],
      "source": [
        "plt.figure(figsize =(8, 8))\n",
        "plt.title('Visualising the data')\n",
        "Dendrogram = shc.dendrogram((shc.linkage(X_principal, method ='ward')))"
      ]
    }
  ],
  "metadata": {
    "colab": {
      "name": "agglomerativeClustering.ipynb",
      "provenance": []
    },
    "kernelspec": {
      "display_name": "Python 3",
      "name": "python3"
    },
    "language_info": {
      "name": "python"
    }
  },
  "nbformat": 4,
  "nbformat_minor": 0
}
