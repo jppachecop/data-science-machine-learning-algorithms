{
 "cells": [
  {
   "cell_type": "markdown",
   "metadata": {},
   "source": [
    "# Árvore de decisão\n",
    "\n",
    "O algoritmo da árvore de decisão pode ser tanto de regressão (saídas numéricas) quanto classificação (saídas categóricas)."
   ]
  }
 ],
 "metadata": {
  "language_info": {
   "name": "python"
  },
  "orig_nbformat": 4
 },
 "nbformat": 4,
 "nbformat_minor": 2
}
