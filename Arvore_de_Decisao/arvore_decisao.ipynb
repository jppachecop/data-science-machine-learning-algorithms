{
 "cells": [
  {
   "cell_type": "markdown",
   "metadata": {},
   "source": [
    "# Árvore de decisão\n",
    "\n",
    "A árvore de decisão funciona como um jogo de perguntas e respostas. O algoritmo percorre essas com um caminho,saindo de um conjunto mais geral até o objetivo. O algoritmo pode ser tanto de regressão (saídas numéricas) quanto classificação (saídas categóricas)."
   ]
  },
  {
   "cell_type": "markdown",
   "metadata": {},
   "source": [
    "<img src =\"imgs/arvore.png\">"
   ]
  },
  {
   "cell_type": "markdown",
   "metadata": {},
   "source": [
    "https://uvagpclass.wordpress.com/2017/12/01/arvore-de-decisao-a-ferramenta-ideal-para-tomada-de-decisoes/"
   ]
  },
  {
   "cell_type": "markdown",
   "metadata": {},
   "source": [
    "## Características\n",
    "\n",
    "Interpretár a árvore é um processo bastante simples, além de lidar bem com dados categóricos e numéricos. Porém há um grande rísco de após treina-la. os dados reais não encaixarem nas saídas esperadas. Outro possível problema é construir a árvore, pois ela pode crescer bastante e dificultar o processo computacional. Mas essas dificuldades podem ser contornadas com alguns métodos, logo o algoritmo ainda é muito bom para criar alguns insigths."
   ]
  },
  {
   "cell_type": "markdown",
   "metadata": {},
   "source": [
    "## Entropia\n",
    "\n"
   ]
  },
  {
   "cell_type": "markdown",
   "metadata": {},
   "source": [
    "A entropia é calculada para saber o ganho de informação. Com ela sabemos quais variáveis estão mais relacionadas à decisão tomada. Assim, os espaços são divididos com mais precisão, tornando uma árvore menor para chegar em alguma conclusão. A fórmula da entropia é dada por:\n",
    "<br>\n",
    "$$ entropia = \\displaystyle\\sum_{i=1}^n p(x_i) log_2 p(x_i)$$\n",
    "<br>\n"
   ]
  },
  {
   "cell_type": "markdown",
   "metadata": {},
   "source": [
    "## Referências\n",
    "\n",
    "https://docs.ufpr.br/~marianakleina/ARVORE_DECISAO.pdf\n",
    "<br>\n",
    "https://juliocprocha.wordpress.com/2017/03/06/entropia-ganho-de-informacao-e-decision-trees/"
   ]
  }
 ],
 "metadata": {
  "language_info": {
   "name": "python"
  },
  "orig_nbformat": 4
 },
 "nbformat": 4,
 "nbformat_minor": 2
}
